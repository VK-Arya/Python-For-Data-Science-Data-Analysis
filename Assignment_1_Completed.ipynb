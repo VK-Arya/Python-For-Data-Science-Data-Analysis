{
  "cells": [
    {
      "cell_type": "markdown",
      "metadata": {
        "id": "C1oLzs9OBtsG"
      },
      "source": [
        "## Question 1"
      ]
    },
    {
      "cell_type": "markdown",
      "metadata": {
        "id": "WtEzMZTuBtsN"
      },
      "source": [
        "- `Take two integer numbers and return their product. If the product is greater than 1000, then return their sum if product is less than 1000 return product value only.`\n",
        "\n"
      ]
    },
    {
      "cell_type": "code",
      "execution_count": null,
      "metadata": {
        "colab": {
          "base_uri": "https://localhost:8080/"
        },
        "id": "ISlHszRPBtsP",
        "outputId": "cede34ab-b16c-4ef2-bd37-212a1d1c77c3"
      },
      "outputs": [
        {
          "name": "stdout",
          "output_type": "stream",
          "text": [
            "600\n"
          ]
        }
      ],
      "source": [
        "a=30\n",
        "b=20\n",
        "if a*b>1000:\n",
        " print(a+b)\n",
        "else:\n",
        " print(a*b)"
      ]
    },
    {
      "cell_type": "markdown",
      "metadata": {
        "id": "aEM7mFiZBtsT"
      },
      "source": [
        "## question 2"
      ]
    },
    {
      "cell_type": "markdown",
      "metadata": {
        "id": "IN02zkgJBtsU"
      },
      "source": [
        "- `Given a range of the first 10 numbers, Iterate from the start number to the end number, and In each iteration print the sum of the current number and previous number`"
      ]
    },
    {
      "cell_type": "code",
      "execution_count": null,
      "metadata": {
        "colab": {
          "base_uri": "https://localhost:8080/"
        },
        "id": "o_TmRYYpBtsV",
        "outputId": "ccb5eb35-3bb5-4e59-e08c-48fab66666c5"
      },
      "outputs": [
        {
          "name": "stdout",
          "output_type": "stream",
          "text": [
            "current number 0 previous number 0 Sum: 0\n",
            "current number 1 previous number 0 Sum: 1\n",
            "current number 2 previous number 1 Sum: 3\n",
            "current number 3 previous number 2 Sum: 5\n",
            "current number 4 previous number 3 Sum: 7\n",
            "current number 5 previous number 4 Sum: 9\n",
            "current number 6 previous number 5 Sum: 11\n",
            "current number 7 previous number 6 Sum: 13\n",
            "current number 8 previous number 7 Sum: 15\n",
            "current number 9 previous number 8 Sum: 17\n"
          ]
        }
      ],
      "source": [
        "curent_no=10\n",
        "previous_no=0\n",
        "for i in range(0,curent_no):\n",
        "    sum=i+previous_no\n",
        "    print(\"current number\",i,\"previous number\",previous_no,\"Sum:\",sum)\n",
        "    previous_no=i"
      ]
    },
    {
      "cell_type": "markdown",
      "metadata": {
        "id": "yit6D_CwBtsX"
      },
      "source": [
        "## question 3"
      ]
    },
    {
      "cell_type": "markdown",
      "metadata": {
        "id": "ehrkLyncBtsX"
      },
      "source": [
        "Given a string and an integer number n, remove characters from a string starting from zero up to n and return a new string"
      ]
    },
    {
      "cell_type": "code",
      "execution_count": null,
      "metadata": {
        "colab": {
          "base_uri": "https://localhost:8080/"
        },
        "id": "DjWWO6XcBtsY",
        "outputId": "0b415bc5-03a3-41ec-aeab-1e48b80fa359"
      },
      "outputs": [
        {
          "output_type": "stream",
          "name": "stdout",
          "text": [
            "tive\n"
          ]
        }
      ],
      "source": [
        "str='pynative'\n",
        "n=4\n",
        "print(str[n:])"
      ]
    },
    {
      "cell_type": "markdown",
      "metadata": {
        "id": "uA86hWhmBtsZ"
      },
      "source": [
        "## question 4"
      ]
    },
    {
      "cell_type": "markdown",
      "metadata": {
        "id": "160YeeE2Btsa"
      },
      "source": [
        "### `Given a list of numbers, return True if first and last number of a list is same`"
      ]
    },
    {
      "cell_type": "code",
      "execution_count": 3,
      "metadata": {
        "colab": {
          "base_uri": "https://localhost:8080/"
        },
        "id": "z6fKLDDUBtsc",
        "outputId": "8d5f4fb6-de76-483f-a322-0a2f6945daa8"
      },
      "outputs": [
        {
          "output_type": "stream",
          "name": "stdout",
          "text": [
            "true\n"
          ]
        }
      ],
      "source": [
        "a=[10,20,30,40,10]\n",
        "b=[10,20,30,40,10]\n",
        "\n",
        "if a[0]==a[-1]:\n",
        "    print('true')\n",
        "else:\n",
        "    print('false')"
      ]
    },
    {
      "cell_type": "code",
      "source": [
        "a=[10,20,30,40,50]\n",
        "b=[11,21,31,41,51]\n",
        "if b[0]==b[-1]:\n",
        "    print('true')\n",
        "else:\n",
        "    print('false')"
      ],
      "metadata": {
        "colab": {
          "base_uri": "https://localhost:8080/"
        },
        "id": "tLUx123DRQJj",
        "outputId": "76391e19-7a2d-4052-851c-8463e70d3446"
      },
      "execution_count": 4,
      "outputs": [
        {
          "output_type": "stream",
          "name": "stdout",
          "text": [
            "false\n"
          ]
        }
      ]
    },
    {
      "cell_type": "markdown",
      "metadata": {
        "id": "LvlHj0JCBtse"
      },
      "source": [
        "## question 5"
      ]
    },
    {
      "cell_type": "markdown",
      "metadata": {
        "id": "exeo1sQFBtse"
      },
      "source": [
        "### Given a two Python list. Iterate both lists simultaneously such that list1 should display item in original order and list2 in reverse order\n",
        "\n",
        "  "
      ]
    },
    {
      "cell_type": "code",
      "execution_count": null,
      "metadata": {
        "colab": {
          "base_uri": "https://localhost:8080/"
        },
        "id": "CYCA-pNjBtsf",
        "outputId": "3a611cc7-4a8e-4422-98a0-dacb3a3071fc"
      },
      "outputs": [
        {
          "name": "stdout",
          "output_type": "stream",
          "text": [
            "10 400\n",
            "20 300\n",
            "30 200\n",
            "40 100\n"
          ]
        }
      ],
      "source": [
        "list1=[10,20,30,40]\n",
        "list2=[100,200,300,400]\n",
        "list2.reverse()\n",
        "for i in range(len(list1)):\n",
        "    print(list1[i],list2[i])"
      ]
    },
    {
      "cell_type": "markdown",
      "metadata": {
        "id": "NNL-ShnBBtsg"
      },
      "source": [
        "## question 6"
      ]
    },
    {
      "cell_type": "markdown",
      "metadata": {
        "id": "pzVQL16UBtsg"
      },
      "source": [
        "### Remove empty strings from the list of strings\n",
        "\n",
        "\n",
        "    list1 = [\"Mike\", \"\", \"Emma\", \"Kelly\", \"\", \"Brad\"]\n",
        "\n",
        "    Expected output:\n",
        "    ----------------------\n",
        "\n",
        "    [\"Mike\", \"Emma\", \"Kelly\", \"Brad\"]\n"
      ]
    },
    {
      "cell_type": "code",
      "execution_count": null,
      "metadata": {
        "colab": {
          "base_uri": "https://localhost:8080/"
        },
        "id": "FSVBauIuBtsh",
        "outputId": "b16cadfc-60b0-4055-ed46-b4994eec274c"
      },
      "outputs": [
        {
          "output_type": "stream",
          "name": "stdout",
          "text": [
            "['Mike', 'Emma', 'Kelly', 'Brad']\n"
          ]
        }
      ],
      "source": [
        "# Please write The solution Here for above question 6:\n",
        "\n",
        "list1=[\"Mike\", \"\", \"Emma\", \"Kelly\", \"\", \"Brad\"]\n",
        "list2=[]\n",
        "for i in list1:\n",
        "    if i!=\"\":\n",
        "      list2.append(i)\n",
        "print(list2)"
      ]
    }
  ],
  "metadata": {
    "colab": {
      "provenance": []
    },
    "kernelspec": {
      "display_name": "Python 3 (ipykernel)",
      "language": "python",
      "name": "python3"
    },
    "language_info": {
      "codemirror_mode": {
        "name": "ipython",
        "version": 3
      },
      "file_extension": ".py",
      "mimetype": "text/x-python",
      "name": "python",
      "nbconvert_exporter": "python",
      "pygments_lexer": "ipython3",
      "version": "3.11.5"
    }
  },
  "nbformat": 4,
  "nbformat_minor": 0
}
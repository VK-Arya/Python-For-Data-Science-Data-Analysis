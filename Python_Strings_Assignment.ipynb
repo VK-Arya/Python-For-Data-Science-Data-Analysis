{
  "cells": [
    {
      "cell_type": "markdown",
      "id": "db689fc2",
      "metadata": {
        "id": "db689fc2"
      },
      "source": [
        "### Question 1: Write a Python program to count the number of characters in a string without using len function.\n"
      ]
    },
    {
      "cell_type": "code",
      "execution_count": null,
      "id": "c9ce9180",
      "metadata": {
        "colab": {
          "base_uri": "https://localhost:8080/"
        },
        "id": "c9ce9180",
        "outputId": "ffa5822a-034a-404c-f5e7-f8441f0daa68"
      },
      "outputs": [
        {
          "output_type": "stream",
          "name": "stdout",
          "text": [
            "11\n"
          ]
        }
      ],
      "source": [
        "var='python jawa'\n",
        "count=0\n",
        "for i in var:\n",
        "    count+=1\n",
        "print(count)"
      ]
    },
    {
      "cell_type": "markdown",
      "id": "46f069cc",
      "metadata": {
        "id": "46f069cc"
      },
      "source": [
        "### Question 2: Write a Python program to reverse a string without using [::-1]\n",
        "\n"
      ]
    },
    {
      "cell_type": "code",
      "execution_count": null,
      "id": "2cde3dcc",
      "metadata": {
        "colab": {
          "base_uri": "https://localhost:8080/"
        },
        "id": "2cde3dcc",
        "outputId": "91341008-ed6a-4fbd-a89f-a56c94e84489"
      },
      "outputs": [
        {
          "output_type": "stream",
          "name": "stdout",
          "text": [
            "nohtyp\n"
          ]
        }
      ],
      "source": [
        "def reverse_string(s):\n",
        "  reversed_string = \"\"\n",
        "  for i in range(len(s)-1, -1, -1):\n",
        "    reversed_string += s[i]\n",
        "  return reversed_string\n",
        "\n",
        "input_string = \"python\"\n",
        "reversed_string = reverse_string(input_string)\n",
        "print(reversed_string)"
      ]
    },
    {
      "cell_type": "markdown",
      "id": "0f3a2ef5",
      "metadata": {
        "id": "0f3a2ef5"
      },
      "source": [
        "### Question 3: Write a Python program to check if a string is a palindrome don't use [::-1].\n",
        "\n"
      ]
    },
    {
      "cell_type": "code",
      "execution_count": 1,
      "id": "74b9f01a",
      "metadata": {
        "id": "74b9f01a",
        "colab": {
          "base_uri": "https://localhost:8080/"
        },
        "outputId": "74bd65a3-e55e-4b60-f53d-e4821dfeb67c"
      },
      "outputs": [
        {
          "output_type": "stream",
          "name": "stdout",
          "text": [
            "'NUN' is a palindrome.\n"
          ]
        }
      ],
      "source": [
        "def is_palindrome(s):\n",
        "  left = 0\n",
        "  right = len(s) - 1\n",
        "\n",
        "  while left < right:\n",
        "    if s[left] != s[right]:\n",
        "      return False\n",
        "    left += 1\n",
        "    right -= 1\n",
        "  return True\n",
        "\n",
        "string = 'NUN'\n",
        "if is_palindrome(string):\n",
        "  print(f\"'{string}' is a palindrome.\")\n",
        "else:\n",
        "  print(f\"'{string}' is not a palindrome.\")"
      ]
    },
    {
      "cell_type": "markdown",
      "id": "98e0fc60",
      "metadata": {
        "id": "98e0fc60"
      },
      "source": [
        "### Question 4: Write a Python program to find the most common character in a string.\n",
        "\n"
      ]
    },
    {
      "cell_type": "code",
      "execution_count": null,
      "id": "d9aa4ca6",
      "metadata": {
        "id": "d9aa4ca6",
        "colab": {
          "base_uri": "https://localhost:8080/"
        },
        "outputId": "c44dcc16-a8da-49b7-947c-1294bec9a858"
      },
      "outputs": [
        {
          "output_type": "stream",
          "name": "stdout",
          "text": [
            "l\n"
          ]
        }
      ],
      "source": [
        "var='Hello world'\n",
        "freq={}\n",
        "for i in var:\n",
        "  if i in freq:\n",
        "    freq[i]+=1\n",
        "  else:\n",
        "    freq[i]=1\n",
        "print(max(freq, key=freq.get))"
      ]
    },
    {
      "cell_type": "markdown",
      "id": "17eb44eb",
      "metadata": {
        "id": "17eb44eb"
      },
      "source": [
        "### Question 5: Write a Python program to check if two strings are anagrams.\n",
        "\n"
      ]
    },
    {
      "cell_type": "code",
      "execution_count": null,
      "id": "29f0e87e",
      "metadata": {
        "id": "29f0e87e",
        "colab": {
          "base_uri": "https://localhost:8080/"
        },
        "outputId": "cdde3c68-598c-4965-d930-e9e5e1f650f3"
      },
      "outputs": [
        {
          "output_type": "stream",
          "name": "stdout",
          "text": [
            "both are anagram\n"
          ]
        }
      ],
      "source": [
        "var1='listen'\n",
        "var2='silent'\n",
        "if sorted(var1)==sorted(var2):\n",
        "    print('both are anagram')\n",
        "else:\n",
        "    print('both are not anagram')"
      ]
    },
    {
      "cell_type": "markdown",
      "id": "fac17884",
      "metadata": {
        "id": "fac17884"
      },
      "source": [
        "### Question 6: Write a Python program to remove all the vowels from a string.\n",
        "\n"
      ]
    },
    {
      "cell_type": "code",
      "execution_count": 2,
      "id": "f4b33095",
      "metadata": {
        "id": "f4b33095",
        "colab": {
          "base_uri": "https://localhost:8080/"
        },
        "outputId": "ad9cfc1a-dd6c-46cd-88b3-b0d8c2b454ad"
      },
      "outputs": [
        {
          "output_type": "stream",
          "name": "stdout",
          "text": [
            "pythn\n"
          ]
        }
      ],
      "source": [
        "var='python'\n",
        "vowels=['A','E','I','O','U','a','e','i','o','u']\n",
        "for i in var:\n",
        "    if i in vowels:\n",
        "        var=var.replace(i,'')\n",
        "print(var)"
      ]
    },
    {
      "cell_type": "markdown",
      "id": "2170d6f4",
      "metadata": {
        "id": "2170d6f4"
      },
      "source": [
        "### Question 7: Write a Python program to find the longest word in a string.\n",
        "\n"
      ]
    },
    {
      "cell_type": "code",
      "execution_count": 3,
      "id": "f35de8b3",
      "metadata": {
        "id": "f35de8b3",
        "colab": {
          "base_uri": "https://localhost:8080/"
        },
        "outputId": "204b7148-fd51-4b15-e123-d26b5ca813e8"
      },
      "outputs": [
        {
          "output_type": "stream",
          "name": "stdout",
          "text": [
            "Language\n"
          ]
        }
      ],
      "source": [
        "var='python is Easy Language'\n",
        "var=var.split()\n",
        "longest_word = max(var, key=len)\n",
        "print(longest_word)"
      ]
    },
    {
      "cell_type": "markdown",
      "id": "f349bdb7",
      "metadata": {
        "id": "f349bdb7"
      },
      "source": [
        "### Question 8: Write a Python program to capitalize the first letter of each word in a string [dont use built-in-function called title].\n",
        "\n"
      ]
    },
    {
      "cell_type": "code",
      "execution_count": 4,
      "id": "a1b4c4e6",
      "metadata": {
        "id": "a1b4c4e6",
        "colab": {
          "base_uri": "https://localhost:8080/"
        },
        "outputId": "61120845-e3ea-4cff-a9d8-37bd2136a33a"
      },
      "outputs": [
        {
          "output_type": "stream",
          "name": "stdout",
          "text": [
            "Python Is Easy Language\n"
          ]
        }
      ],
      "source": [
        "var='python is easy language'\n",
        "result = ''\n",
        "for word in var.split():\n",
        "  result += word.capitalize() + ' '\n",
        "print(result.strip())"
      ]
    },
    {
      "cell_type": "markdown",
      "id": "d2770696",
      "metadata": {
        "id": "d2770696"
      },
      "source": [
        "### Question 9: Write a Python program to find the frequency of each character in a string.\n"
      ]
    },
    {
      "cell_type": "code",
      "execution_count": null,
      "id": "7fdc2e9c",
      "metadata": {
        "id": "7fdc2e9c",
        "colab": {
          "base_uri": "https://localhost:8080/"
        },
        "outputId": "dcc8ba2a-bcc8-4506-fae9-e832f622b567"
      },
      "outputs": [
        {
          "output_type": "stream",
          "name": "stdout",
          "text": [
            "{'s': 1, 'h': 2, 'a': 2, 'r': 1, 'u': 1, 'k': 2, ' ': 1, 'n': 1}\n"
          ]
        }
      ],
      "source": [
        "var='sharuk khan'\n",
        "freq={}\n",
        "for i in var:\n",
        "    if i in freq:\n",
        "        freq[i]+=1\n",
        "    else:\n",
        "        freq[i]=1\n",
        "print(freq)"
      ]
    },
    {
      "cell_type": "markdown",
      "id": "5c9a3f09",
      "metadata": {
        "id": "5c9a3f09"
      },
      "source": [
        "### Question 10: write a python programme to find the sum of all the even characters based on Ascii values\n",
        "\n"
      ]
    },
    {
      "cell_type": "code",
      "execution_count": null,
      "id": "57c0c30e",
      "metadata": {
        "id": "57c0c30e",
        "colab": {
          "base_uri": "https://localhost:8080/"
        },
        "outputId": "f0b1e38c-50ed-41b7-f77e-d94922c8e3dc"
      },
      "outputs": [
        {
          "output_type": "stream",
          "name": "stdout",
          "text": [
            "1492\n"
          ]
        }
      ],
      "source": [
        "var='Vinay Kumar Arya'\n",
        "sum=0\n",
        "for i in var:\n",
        "  sum+=ord(i)\n",
        "print(sum)"
      ]
    }
  ],
  "metadata": {
    "kernelspec": {
      "display_name": "Python 3 (ipykernel)",
      "language": "python",
      "name": "python3"
    },
    "language_info": {
      "codemirror_mode": {
        "name": "ipython",
        "version": 3
      },
      "file_extension": ".py",
      "mimetype": "text/x-python",
      "name": "python",
      "nbconvert_exporter": "python",
      "pygments_lexer": "ipython3",
      "version": "3.11.5"
    },
    "colab": {
      "provenance": []
    }
  },
  "nbformat": 4,
  "nbformat_minor": 5
}